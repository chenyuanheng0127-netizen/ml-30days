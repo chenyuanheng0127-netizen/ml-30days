{
 "cells": [
  {
   "cell_type": "code",
   "execution_count": null,
   "id": "a2cb50ee",
   "metadata": {
    "vscode": {
     "languageId": "plaintext"
    }
   },
   "outputs": [],
   "source": [
    "import numpy as np\n",
    "from sklearn.datasets import load_breast_cancer\n",
    "from sklearn.model_selection import train_test_split\n",
    "from sklearn.preprocessing import StandardScaler\n",
    "from sklearn.pipeline import Pipeline\n",
    "from sklearn.linear_model import LogisticRegression\n",
    "from sklearn.metrics import (accuracy_score, precision_score, recall_score,\n",
    "                             f1_score, roc_auc_score, ConfusionMatrixDisplay,\n",
    "                             RocCurveDisplay)\n",
    "\n",
    "X, y = load_breast_cancer(return_X_y=True)\n",
    "X_tr, X_te, y_tr, y_te = train_test_split(X, y, test_size=0.25, random_state=42, stratify=y)\n",
    "\n",
    "pipe = Pipeline([\n",
    "    (\"scaler\", StandardScaler()),\n",
    "    (\"clf\", LogisticRegression(max_iter=1000, C=1.0, penalty=\"l2\"))\n",
    "])\n",
    "pipe.fit(X_tr, y_tr)\n",
    "proba = pipe.predict_proba(X_te)[:,1]\n",
    "pred  = (proba >= 0.5).astype(int)\n",
    "\n",
    "metrics = {\n",
    "    \"accuracy\": accuracy_score(y_te, pred),\n",
    "    \"precision\": precision_score(y_te, pred),\n",
    "    \"recall\": recall_score(y_te, pred),\n",
    "    \"f1\": f1_score(y_te, pred),\n",
    "    \"roc_auc\": roc_auc_score(y_te, proba),\n",
    "}\n",
    "metrics"
   ]
  },
  {
   "cell_type": "code",
   "execution_count": null,
   "id": "d51e619f",
   "metadata": {
    "vscode": {
     "languageId": "plaintext"
    }
   },
   "outputs": [],
   "source": [
    "import matplotlib.pyplot as plt\n",
    "RocCurveDisplay.from_predictions(y_te, proba)\n",
    "plt.show()\n",
    "\n",
    "ConfusionMatrixDisplay.from_predictions(y_te, pred)\n",
    "plt.show()"
   ]
  }
 ],
 "metadata": {
  "language_info": {
   "name": "python"
  }
 },
 "nbformat": 4,
 "nbformat_minor": 5
}
